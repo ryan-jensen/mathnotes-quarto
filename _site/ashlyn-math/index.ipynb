{
  "cells": [
    {
      "cell_type": "markdown",
      "metadata": {},
      "source": [
        "# Ashlyn Math Book\n",
        "\n",
        "Ryan Jensen\n",
        "\n",
        "This is a collection of mathematics activities for my daughter Ashlyn."
      ],
      "id": "f3d68194-5ed5-4a0c-81f4-bf4a5d0244c3"
    }
  ],
  "nbformat": 4,
  "nbformat_minor": 5,
  "metadata": {
    "kernelspec": {
      "display_name": "Python 3",
      "language": "python",
      "name": "python3"
    }
  }
}