{
  "cells": [
    {
      "cell_type": "markdown",
      "metadata": {},
      "source": [
        "# Ashlyn Math Book\n",
        "\n",
        "Ryan Jensen\n",
        "\n",
        "This is a collection of mathematics activities for my daughter Ashlyn."
      ],
      "id": "9817a6af-1922-43ed-9f77-fe34b361fd13"
    }
  ],
  "nbformat": 4,
  "nbformat_minor": 5,
  "metadata": {
    "kernelspec": {
      "display_name": "Python 3",
      "language": "python",
      "name": "python3"
    }
  }
}