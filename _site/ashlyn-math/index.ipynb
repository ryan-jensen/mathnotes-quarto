{
  "cells": [
    {
      "cell_type": "markdown",
      "metadata": {},
      "source": [
        "# Ashlyn Math Book\n",
        "\n",
        "Ryan Jensen\n",
        "\n",
        "# Welcome!\n",
        "\n",
        "Ashlyn, this is your math book."
      ],
      "id": "0f604a35-e791-4dbc-8beb-4c9a0c6dfd85"
    }
  ],
  "nbformat": 4,
  "nbformat_minor": 5,
  "metadata": {
    "kernelspec": {
      "display_name": "Python 3",
      "language": "python",
      "name": "python3"
    }
  }
}