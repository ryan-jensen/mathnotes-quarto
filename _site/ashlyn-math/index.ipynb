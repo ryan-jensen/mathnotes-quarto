{
  "cells": [
    {
      "cell_type": "markdown",
      "metadata": {},
      "source": [
        "# Ashlyn Math Book\n",
        "\n",
        "Ryan Jensen\n",
        "\n",
        "This is a collection of mathematics activities for my daughter Ashlyn."
      ],
      "id": "c66f0f15-aa22-4b81-90ef-771150b61a9b"
    }
  ],
  "nbformat": 4,
  "nbformat_minor": 5,
  "metadata": {
    "kernelspec": {
      "display_name": "Python 3",
      "language": "python",
      "name": "python3"
    }
  }
}