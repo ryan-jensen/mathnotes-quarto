{
  "cells": [
    {
      "cell_type": "markdown",
      "metadata": {},
      "source": [
        "# Ashlyn Math Book\n",
        "\n",
        "Ryan Jensen\n",
        "\n",
        "This is a collection of mathematics activities for my daughter Ashlyn."
      ],
      "id": "c95cd5b6-6530-4812-b1d4-91cbc007dae1"
    }
  ],
  "nbformat": 4,
  "nbformat_minor": 5,
  "metadata": {
    "kernelspec": {
      "display_name": "Python 3",
      "language": "python",
      "name": "python3"
    }
  }
}