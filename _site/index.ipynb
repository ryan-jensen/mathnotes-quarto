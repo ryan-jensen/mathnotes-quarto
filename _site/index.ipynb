{
  "cells": [
    {
      "cell_type": "markdown",
      "metadata": {},
      "source": [
        "# Home\n",
        "\n",
        "# Welcome\n",
        "\n",
        "Things to do on this website:\n",
        "\n",
        "-   A landing page.\n",
        "-   Resume\n",
        "-   Get Shiny apps to work with r.\n",
        "-   Thebelab integration.\n",
        "-   Move over things from old website."
      ],
      "id": "b54fd822-478d-4148-9f7a-716ba42b4b2a"
    }
  ],
  "nbformat": 4,
  "nbformat_minor": 5,
  "metadata": {
    "kernelspec": {
      "display_name": "Python 3",
      "language": "python",
      "name": "python3"
    }
  }
}