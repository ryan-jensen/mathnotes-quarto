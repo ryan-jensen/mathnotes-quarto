{
  "cells": [
    {
      "cell_type": "markdown",
      "metadata": {},
      "source": [
        "# Home\n",
        "\n",
        "# Welcome\n",
        "\n",
        "Things to do on this website:\n",
        "\n",
        "-   A landing page.\n",
        "-   Resume\n",
        "-   favicon\n",
        "-   Get Shiny apps to work with r.\n",
        "-   Thebelab integration."
      ],
      "id": "0e3302f6-7aec-4082-a10f-6b0e253feb2b"
    }
  ],
  "nbformat": 4,
  "nbformat_minor": 5,
  "metadata": {
    "kernelspec": {
      "display_name": "Python 3",
      "language": "python",
      "name": "python3"
    }
  }
}