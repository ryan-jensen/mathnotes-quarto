{
  "cells": [
    {
      "cell_type": "markdown",
      "metadata": {},
      "source": [
        "# Home\n",
        "\n",
        "# Welcome\n",
        "\n",
        "Things to do on this website:\n",
        "\n",
        "-   A landing page.\n",
        "-   Resume\n",
        "-   favicon\n",
        "-   Get Shiny apps to work with r.\n",
        "-   Thebelab integration."
      ],
      "id": "7177bc9b-4f3d-4e0b-b1fc-7f820da1494f"
    }
  ],
  "nbformat": 4,
  "nbformat_minor": 5,
  "metadata": {
    "kernelspec": {
      "display_name": "Python 3",
      "language": "python",
      "name": "python3"
    }
  }
}