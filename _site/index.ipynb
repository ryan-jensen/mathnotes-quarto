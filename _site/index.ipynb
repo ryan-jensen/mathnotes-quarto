{
  "cells": [
    {
      "cell_type": "markdown",
      "metadata": {},
      "source": [
        "# Home\n",
        "\n",
        "# Welcome\n",
        "\n",
        "Things to do on this website:\n",
        "\n",
        "-   A landing page.\n",
        "-   Resume\n",
        "-   Get Shiny apps to work with r.\n",
        "-   Thebelab integration.\n",
        "-   Move over things from old website.\n",
        "-   Fix monospace fonts"
      ],
      "id": "f502bb35-b978-426f-af40-4d3dd66e829f"
    }
  ],
  "nbformat": 4,
  "nbformat_minor": 5,
  "metadata": {
    "kernelspec": {
      "display_name": "Python 3",
      "language": "python",
      "name": "python3"
    }
  }
}