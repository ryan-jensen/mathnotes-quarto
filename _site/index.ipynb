{
  "cells": [
    {
      "cell_type": "markdown",
      "metadata": {},
      "source": [
        "# Home\n",
        "\n",
        "# Welcome\n",
        "\n",
        "Things to do on this website:\n",
        "\n",
        "-   A landing page.\n",
        "-   Resume\n",
        "-   Get Shiny apps to work with r.\n",
        "-   Thebelab integration.\n",
        "-   Move over things from old website."
      ],
      "id": "1895d53f-dacc-4323-86b8-ee3641bc8cb7"
    }
  ],
  "nbformat": 4,
  "nbformat_minor": 5,
  "metadata": {
    "kernelspec": {
      "display_name": "Python 3",
      "language": "python",
      "name": "python3"
    }
  }
}