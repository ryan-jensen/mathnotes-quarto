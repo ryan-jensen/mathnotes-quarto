{
  "cells": [
    {
      "cell_type": "markdown",
      "metadata": {},
      "source": [
        "# Julia\n",
        "\n",
        "Main page for Julia."
      ],
      "id": "b1aece42-c2f8-4402-b40f-cc100c8df622"
    }
  ],
  "nbformat": 4,
  "nbformat_minor": 5,
  "metadata": {
    "kernelspec": {
      "display_name": "Python 3",
      "language": "python",
      "name": "python3"
    }
  }
}