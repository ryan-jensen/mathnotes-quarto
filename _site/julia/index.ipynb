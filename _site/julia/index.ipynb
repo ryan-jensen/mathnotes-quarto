{
  "cells": [
    {
      "cell_type": "markdown",
      "metadata": {},
      "source": [
        "# Julia\n",
        "\n",
        "Main page for Julia."
      ],
      "id": "d5b13c6b-51d7-40c7-8ca3-8980b92967c0"
    }
  ],
  "nbformat": 4,
  "nbformat_minor": 5,
  "metadata": {
    "kernelspec": {
      "display_name": "Python 3",
      "language": "python",
      "name": "python3"
    }
  }
}