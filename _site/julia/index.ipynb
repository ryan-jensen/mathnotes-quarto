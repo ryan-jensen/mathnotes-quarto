{
  "cells": [
    {
      "cell_type": "markdown",
      "metadata": {},
      "source": [
        "# Julia\n",
        "\n",
        "Main page for Julia."
      ],
      "id": "2208b63d-5d8c-4529-bccb-1e7bb1128087"
    }
  ],
  "nbformat": 4,
  "nbformat_minor": 5,
  "metadata": {
    "kernelspec": {
      "display_name": "Python 3",
      "language": "python",
      "name": "python3"
    }
  }
}