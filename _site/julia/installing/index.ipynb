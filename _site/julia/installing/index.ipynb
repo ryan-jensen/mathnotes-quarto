{
  "cells": [
    {
      "cell_type": "markdown",
      "metadata": {},
      "source": [
        "# Installing Julia\n",
        "\n",
        "Here we learn how to install Julia."
      ],
      "id": "19529650-aab2-490e-b32a-312536904c26"
    }
  ],
  "nbformat": 4,
  "nbformat_minor": 5,
  "metadata": {
    "kernelspec": {
      "display_name": "Python 3",
      "language": "python",
      "name": "python3"
    }
  }
}