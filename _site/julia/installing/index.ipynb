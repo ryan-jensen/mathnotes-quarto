{
  "cells": [
    {
      "cell_type": "markdown",
      "metadata": {},
      "source": [
        "# Installing Julia\n",
        "\n",
        "Here we learn how to install Julia."
      ],
      "id": "06a8c921-f78c-4898-958f-fe9f9456f24d"
    }
  ],
  "nbformat": 4,
  "nbformat_minor": 5,
  "metadata": {
    "kernelspec": {
      "display_name": "Python 3",
      "language": "python",
      "name": "python3"
    }
  }
}