{
  "cells": [
    {
      "cell_type": "markdown",
      "metadata": {},
      "source": [
        "# Installing Julia\n",
        "\n",
        "Here we learn how to install Julia."
      ],
      "id": "b9b27c85-136c-4105-9685-12b0054e5db6"
    }
  ],
  "nbformat": 4,
  "nbformat_minor": 5,
  "metadata": {
    "kernelspec": {
      "display_name": "Python 3",
      "language": "python",
      "name": "python3"
    }
  }
}