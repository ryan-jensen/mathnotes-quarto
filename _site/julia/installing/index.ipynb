{
  "cells": [
    {
      "cell_type": "markdown",
      "metadata": {},
      "source": [
        "# Installing Julia\n",
        "\n",
        "Here we learn how to install Julia."
      ],
      "id": "bf3c399f-300c-4e37-b26e-268bd8346c30"
    }
  ],
  "nbformat": 4,
  "nbformat_minor": 5,
  "metadata": {
    "kernelspec": {
      "display_name": "Python 3",
      "language": "python",
      "name": "python3"
    }
  }
}