{
  "cells": [
    {
      "cell_type": "markdown",
      "metadata": {},
      "source": [
        "# Introduction to Julia\n",
        "\n",
        "Here we learn an introduction to Julia."
      ],
      "id": "d892f06f-7ad1-41fb-9e21-186649fb5073"
    }
  ],
  "nbformat": 4,
  "nbformat_minor": 5,
  "metadata": {
    "kernelspec": {
      "display_name": "Python 3",
      "language": "python",
      "name": "python3"
    }
  }
}