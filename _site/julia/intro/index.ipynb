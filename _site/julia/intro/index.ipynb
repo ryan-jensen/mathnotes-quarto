{
  "cells": [
    {
      "cell_type": "markdown",
      "metadata": {},
      "source": [
        "# Introduction to Julia\n",
        "\n",
        "Here we learn an introduction to Julia."
      ],
      "id": "cfcbd311-c9f6-40f3-a0fa-f313bf1ab873"
    }
  ],
  "nbformat": 4,
  "nbformat_minor": 5,
  "metadata": {
    "kernelspec": {
      "display_name": "Python 3",
      "language": "python",
      "name": "python3"
    }
  }
}