{
  "cells": [
    {
      "cell_type": "markdown",
      "metadata": {},
      "source": [
        "# Introduction to Julia\n",
        "\n",
        "Here we learn an introduction to Julia."
      ],
      "id": "70c8fedd-bf49-4b8c-a138-9151878e4c3d"
    }
  ],
  "nbformat": 4,
  "nbformat_minor": 5,
  "metadata": {
    "kernelspec": {
      "display_name": "Python 3",
      "language": "python",
      "name": "python3"
    }
  }
}