{
  "cells": [
    {
      "cell_type": "markdown",
      "metadata": {},
      "source": [
        "# Protein Absorption in Cells\n",
        "\n",
        "Ryan Jensen\n",
        "\n",
        "## Introduction\n",
        "\n",
        "What follows is a proof of concept for using persistent homology to\n",
        "establish the effectiveness of medication in treating sick cells. Cells\n",
        "are sick in the sense that they cannot absorb a certain protein. The\n",
        "medication is suppose to allow the protein to be absorbed. The protein\n",
        "has been dyed so as to show up in images. The cells are grouped and each\n",
        "group is given a medication, next the protein is introduced to the cell.\n",
        "Effective medication have the protein distributed throughout the cell.\n",
        "Ineffective medication have the protein concentrated along the cell\n",
        "boundary. The problem is to find a way to compute the effectiveness of\n",
        "the various medications.\n",
        "\n",
        "## Imports\n",
        "\n",
        "Here we import the needed libraries. We are suppressing the messages\n",
        "from loading the libraries to keep the resulting html document cleaner.\n",
        "We first check if the package \\`install.load\\` is installed, if not we\n",
        "install and load it, if it is installed we simply load it. Next we use\n",
        "this library to install (if needed) and load the renaming libraries."
      ],
      "id": "ebad4a9f-fb64-49be-90a0-746910171302"
    },
    {
      "cell_type": "code",
      "execution_count": null,
      "metadata": {},
      "outputs": [],
      "source": [
        "suppressMessages({\n",
        "  if(!require(\"install.load\")) {\n",
        "  install.packages(\"install.load\")\n",
        "  }\n",
        "})\n",
        "suppressMessages(install_load(\"tiff\"))      # Using: readTIFF\n",
        "suppressMessages(install_load(\"rtiff\"))     # Using: autoThreshold\n",
        "suppressMessages(install_load(\"RSAGA\"))     # Using: grid.to.xyz\n",
        "suppressMessages(install_load(\"TDA\"))       # Using: ripsDiag, \n",
        "suppressMessages(install_load(\"plotly\"))    # Using: plot_ly\n",
        "suppressMessages(install_load(\"plot3D\"))    # Using: image2D"
      ],
      "id": "ce830270-9627-43c6-aa6a-d0e27fd52108"
    },
    {
      "cell_type": "markdown",
      "metadata": {},
      "source": [
        "## Helper Function\n",
        "\n",
        "This function applies auto-thresholding to its input, which is an image.\n",
        "If a pixel value is less than the threshold, it replaced by 0. The\n",
        "algorithm for determining the threshold value is in the package\n",
        "\\`rtiff\\`."
      ],
      "id": "a942047e-0dae-49bd-b20e-8b59b9cc8f7b"
    },
    {
      "cell_type": "code",
      "execution_count": null,
      "metadata": {},
      "outputs": [],
      "source": [
        "autoTH <- function(x) \n",
        "{\n",
        "  th <- autoThreshold(x, est = .002)\n",
        "  x[x < th[5]] <- 0\n",
        "  return(x)\n",
        "}"
      ],
      "id": "c140f9e3-07b8-46e2-9939-38e918189c01"
    },
    {
      "cell_type": "markdown",
      "metadata": {},
      "source": [
        "## Image Processing Function\n",
        "\n",
        "This function takes a file path, an optional trim amount, an optional\n",
        "sample size, and an optional z-distance (the distance between slices in\n",
        "the cell). It then reads in the stacked image, and trims out the noisy\n",
        "slices (if a trim amount is supplied). It then applies a thresholding\n",
        "algorithm to each slice individually (see the helper function above).\n",
        "Next the image slices are turned into 3D-points, with a 4th dimension\n",
        "containing the original pixel intensity. A sample is then taken from\n",
        "this point cloud, and the persistence diagram is computed from this\n",
        "sample.\n",
        "\n",
        "The function returns a list containing the original file path of the\n",
        "image, the raw slices, the trimmed raw slices, the thresholded slices,\n",
        "the point cloud, the sample point cloud, a 3D plot of the sample point\n",
        "cloud, and the persistence diagram."
      ],
      "id": "976c5bd7-b074-446b-adc7-8a8bd71dccd0"
    },
    {
      "cell_type": "code",
      "execution_count": null,
      "metadata": {},
      "outputs": [],
      "source": [
        "processImageStack <- function(fp, trmAmnt = NULL, smpSize = NULL, zDist = NULL)\n",
        "{\n",
        "  ## Read in the stacked image, then trim out the noise (if told to).\n",
        "  rawSlices <- readTIFF(fp, indexed = TRUE, native = FALSE, all = TRUE)\n",
        "  if(is.null(trmAmnt)) trmAmnt <- 1:length(rawSlices)\n",
        "  rawSlicesTrimmed <- rawSlices[trmAmnt]\n",
        "\n",
        "  ## Autothreshold each image slice seperatly\n",
        "  thSlices <- lapply(rawSlicesTrimmed, autoTH)\n",
        "\n",
        "  ## Convert all image slices (matricies) to point sets, rename z -> intensity\n",
        "  pntSlices <- lapply( thSlices\n",
        "                     , function(x) grid.to.xyz(data=x,varname = \"intensity\"))\n",
        "\n",
        "  ## Add in z values\n",
        "  if(is.null(zDist)) zDist <- 3.87595 \n",
        "  for(i in 1:length(pntSlices))\n",
        "  {\n",
        "    pntSlices[[i]]$z = rep((i-1)*zDist)\n",
        "  }\n",
        "\n",
        "  ## Concat the lists of points, then switch order so z is before intensity\n",
        "  pointCloud <- do.call(\"rbind\", pntSlices)\n",
        "  pointCloud <- pointCloud[, c(1,2,4,3)]\n",
        "\n",
        "\n",
        "  ## Get a point sample\n",
        "  if(is.null(smpSize)) smpSize <- 500\n",
        "  sPointCloud <- pointCloud[ sample( nrow(pointCloud)\n",
        "                                   , smpSize\n",
        "                                   , prob = pointCloud$intensity), ]\n",
        "\n",
        "  ## Generate the plot\n",
        "  x <- sPointCloud$x\n",
        "  y <- sPointCloud$y\n",
        "  z <- sPointCloud$z\n",
        "  cloudPlot <- {plot_ly(\n",
        "    x=x, y=y, z=z, \n",
        "    type=\"scatter3d\", \n",
        "    mode=\"markers\", \n",
        "    text=paste(\"Intensity: \", sPointCloud$intensity),\n",
        "    marker=list(opacity=.6, color=sPointCloud$intensity)\n",
        "  ) %>%\n",
        "  layout(title = fp)\n",
        "  }\n",
        "\n",
        "  ## Compute the persistence diagram, only for the spacial coordinates\n",
        "  sRipsDiag <- {\n",
        "    ripsDiag(\n",
        "      sPointCloud[ ,1:3],\n",
        "      maxdimension = 2,\n",
        "      maxscale = 40, \n",
        "      library = \"GUDHI\"\n",
        "    )\n",
        "  }\n",
        "\n",
        "  ## Generate our return list\n",
        "  retList <- {list(\n",
        "    \"filePath\"         = fp,\n",
        "    \"rawSlices\"        = rawSlices, \n",
        "    \"rawSlicesTrimmed\" = rawSlicesTrimmed,\n",
        "    \"thSlices\"         = thSlices,\n",
        "    \"pointCloud\"       = pointCloud,\n",
        "    \"sPointCloud\"      = sPointCloud,\n",
        "    \"cloudPlot\"        = cloudPlot,\n",
        "    \"ripsDiag\"         = sRipsDiag\n",
        "  )}\n",
        "  return(retList)\n",
        "}"
      ],
      "id": "47c89bc6-9f51-4d09-80e0-af41655fa56a"
    },
    {
      "cell_type": "markdown",
      "metadata": {},
      "source": [
        "## Test Image\n",
        "\n",
        "Now lets run this on a test image.\n",
        "\n",
        "### Read and Process the Image"
      ],
      "id": "ab5b42cf-9ce0-4912-b8b3-da70cfd96438"
    },
    {
      "cell_type": "code",
      "execution_count": null,
      "metadata": {},
      "outputs": [],
      "source": [
        "testFP  <- \"test.tif\"\n",
        "testT   <- 14:36\n",
        "testR   <- processImageStack(fp = testFP, trmAmnt = testT, smpSize = 600)"
      ],
      "id": "90c8f58e-32a5-4379-be52-fb987f8dd907"
    },
    {
      "cell_type": "markdown",
      "metadata": {},
      "source": [
        "### Results\n",
        "\n",
        "#### Raw Image Slices\n",
        "\n",
        "This is a heat map of each slice of the cell in its original state, no\n",
        "filtering, thresholding, or trimming has been applied at this point."
      ],
      "id": "7dab8bc5-f650-4e0a-a9f0-6896c03911a9"
    },
    {
      "cell_type": "code",
      "execution_count": null,
      "metadata": {},
      "outputs": [],
      "source": [
        "image2D(testR$rawSlices,asp = 1, axes=FALSE, colkey = FALSE, xlab=\"\", ylab=\"\")"
      ],
      "id": "cc9fcee3-fffa-4a43-9e85-7b824c1f81a9"
    },
    {
      "cell_type": "markdown",
      "metadata": {},
      "source": [
        "#### Raw Trimmed Image Slices\n",
        "\n",
        "Since the first few and last few slices appear to be nothing but noise,\n",
        "they have been trimmed out, and the results are shown below. The results\n",
        "from computing the homology are much better when this is done. At this\n",
        "point the trimming has been done manually based on each image, but it\n",
        "would be nice to have an automated way to do it."
      ],
      "id": "6cceda25-68c4-4bd5-90b8-2d4b63b11a8f"
    },
    {
      "cell_type": "code",
      "execution_count": null,
      "metadata": {},
      "outputs": [],
      "source": [
        "image2D(testR$rawSlicesTrimmed,asp = 1, axes=FALSE, colkey = FALSE, xlab=\"\", ylab=\"\")"
      ],
      "id": "5cc0ae24-fd73-4d92-8a41-50b882b85479"
    },
    {
      "cell_type": "markdown",
      "metadata": {},
      "source": [
        "#### Thresholded Image Slices\n",
        "\n",
        "Next we show the results after an automatic thresholding function has\n",
        "been applied to each slice individually. This function comes from an\n",
        "R-package."
      ],
      "id": "681005ee-6943-4dda-be0d-1276a5cc4f21"
    },
    {
      "cell_type": "code",
      "execution_count": null,
      "metadata": {},
      "outputs": [],
      "source": [
        "image2D(testR$thSlices,asp = 1, axes=FALSE, colkey = FALSE, xlab=\"\", ylab=\"\")"
      ],
      "id": "8ee54dd2-1ae5-4233-a512-c3c4e6c8507f"
    },
    {
      "cell_type": "markdown",
      "metadata": {},
      "source": [
        "#### 3D Point Cloud\n",
        "\n",
        "Below is an interact 3D point cloud of a random sample taken from the\n",
        "full point cloud generated from the stacked image. The sample is random,\n",
        "but points with higher intensity have a higher probability of being\n",
        "chosen. Hence if there is a high intensity region in the cell, there is\n",
        "a high probability that the sample will include points from this area."
      ],
      "id": "33df3257-2878-4757-97ca-6fcbf8ee8806"
    },
    {
      "cell_type": "code",
      "execution_count": null,
      "metadata": {
        "exports": "code",
        "file": "test-3d-point-cloud.html"
      },
      "outputs": [],
      "source": [
        "testR$cloudPlot"
      ],
      "id": "eb2f7838-8562-4c25-82cb-54f4fd18d4e0"
    },
    {
      "cell_type": "markdown",
      "metadata": {},
      "source": [
        "[file:test-3d-point-cloud.html](test-3d-point-cloud.html)\n",
        "\n",
        "#### The Persistence Diagram\n",
        "\n",
        "Here is the persistence diagram for the test image. The black dots are\n",
        "the connected components, the red are the 1-holes, and the blue are the\n",
        "2-holes. For a cell with high intensity around the boundary, one would\n",
        "expect a blue point far away from the diagonal. For a cell with\n",
        "intensity dispersed throughout, one would expect any blue points to be\n",
        "near the diagonal."
      ],
      "id": "c0650c96-3e55-4814-a8c0-d8f0617d967d"
    },
    {
      "cell_type": "code",
      "execution_count": null,
      "metadata": {
        "file": "test-persistence-diagram.png"
      },
      "outputs": [],
      "source": [
        "par(mfrow=c(1,1))\n",
        "plot(testR$ripsDiag[[\"diagram\"]])"
      ],
      "id": "78f9ccf4-022e-410a-ab79-5d64358c4bc0"
    },
    {
      "cell_type": "markdown",
      "metadata": {},
      "source": [
        "## High Intensity on the Cell Boundary\n",
        "\n",
        "Here will will look at a cell with high intensity around the cell\n",
        "boundary. For this example, one would expect the persistence diagram to\n",
        "have one blue point far away from the diagonal.\n",
        "\n",
        "### Read and Process the Image"
      ],
      "id": "95b4b0a2-0479-491c-bcac-359ff5d448fd"
    },
    {
      "cell_type": "code",
      "execution_count": null,
      "metadata": {},
      "outputs": [],
      "source": [
        "strongFP <- \"Boundary-Strong.tif\"\n",
        "strongT  <- 15:38\n",
        "strongR  <- processImageStack(fp = strongFP, trmAmnt = strongT)"
      ],
      "id": "146d218a-67df-4340-ad5e-2afc569ee18d"
    },
    {
      "cell_type": "markdown",
      "metadata": {},
      "source": [
        "### Raw Image Slices"
      ],
      "id": "b42fb752-23a3-4178-958d-e645b9b59837"
    },
    {
      "cell_type": "code",
      "execution_count": null,
      "metadata": {},
      "outputs": [],
      "source": [
        "image2D(strongR$rawSlices,asp = 1, axes=FALSE, colkey = FALSE, xlab=\"\", ylab=\"\")"
      ],
      "id": "206a4f4c-acea-4ac1-ade6-53712e45cbf2"
    },
    {
      "cell_type": "markdown",
      "metadata": {},
      "source": [
        "### 3D Point Cloud"
      ],
      "id": "abf73403-22cc-45ac-bb27-83a87ac83010"
    },
    {
      "cell_type": "code",
      "execution_count": null,
      "metadata": {
        "exports": "code",
        "file": "high-intensity-boundary.html"
      },
      "outputs": [],
      "source": [
        "strongR$cloudPlot"
      ],
      "id": "6d9bb909-8eb7-4e50-bce4-bc8bf98e2e6f"
    },
    {
      "cell_type": "markdown",
      "metadata": {},
      "source": [
        "[file:high-intensity-boundary.html](high-intensity-boundary.html)\n",
        "\n",
        "### The Persistence Diagram"
      ],
      "id": "fca23c81-4c26-4438-ac04-7326ecd1e5c7"
    },
    {
      "cell_type": "code",
      "execution_count": null,
      "metadata": {
        "file": "high-intensity-boundary-persistence-diagram.png"
      },
      "outputs": [],
      "source": [
        "par(mfrow=c(1,1))\n",
        "plot(strongR$ripsDiag[[\"diagram\"]])"
      ],
      "id": "41f60fda-2d53-429f-9e3e-04c84c0a2de6"
    },
    {
      "cell_type": "markdown",
      "metadata": {},
      "source": [
        "## Medium Intensity on the Cell Boundary\n",
        "\n",
        "Here will will look at a cell with medium intensity around the cell\n",
        "boundary. For this example, one would expect the persistence diagram to\n",
        "have one blue point a moderate distance away from the diagonal."
      ],
      "id": "e771a522-782d-45fc-b73a-ce0f4e663e46"
    },
    {
      "cell_type": "code",
      "execution_count": null,
      "metadata": {},
      "outputs": [],
      "source": [
        "mediumFP <- \"Boundary-Medium.tif\"\n",
        "mediumT  <- 7:29\n",
        "mediumR  <- processImageStack(fp = mediumFP, trmAmnt = mediumT)"
      ],
      "id": "851c0d0e-d5a5-4896-a2e8-0719a22e7ab9"
    },
    {
      "cell_type": "code",
      "execution_count": null,
      "metadata": {},
      "outputs": [],
      "source": [
        "image2D(mediumR$rawSlices,asp = 1, axes=FALSE, colkey = FALSE, xlab=\"\", ylab=\"\")"
      ],
      "id": "8ac6f3b5-9732-4e49-beae-0523e2e30c19"
    },
    {
      "cell_type": "code",
      "execution_count": null,
      "metadata": {
        "exports": "code",
        "file": "medium-intensity-boundary.html"
      },
      "outputs": [],
      "source": [
        "mediumR$cloudPlot"
      ],
      "id": "0af7ee8a-c857-4115-9311-8382e7fc49da"
    },
    {
      "cell_type": "markdown",
      "metadata": {},
      "source": [
        "[file:medium-intensity-boundary.html](medium-intensity-boundary.html)"
      ],
      "id": "40299a41-2b1b-40e8-bb5d-87c0e783bff7"
    },
    {
      "cell_type": "code",
      "execution_count": null,
      "metadata": {
        "file": "medium-intensity-boundary-persistence-diagram.png"
      },
      "outputs": [],
      "source": [
        "par(mfrow=c(1,1))\n",
        "plot(mediumR$ripsDiag[[\"diagram\"]])"
      ],
      "id": "88cf0bb7-b3a9-49e3-91b8-f4e2f233fd56"
    },
    {
      "cell_type": "markdown",
      "metadata": {},
      "source": [
        "## Low Intensity on the Cell Boundary\n",
        "\n",
        "Here will will look at a cell with low intensity around the cell\n",
        "boundary. For this example, one would expect the persistence diagram to\n",
        "have no blue points except near the diagonal."
      ],
      "id": "8b7a6abe-901c-4ff7-9508-1219885fa849"
    },
    {
      "cell_type": "code",
      "execution_count": null,
      "metadata": {},
      "outputs": [],
      "source": [
        "weakFP <- \"Boundary-Weak.tif\"\n",
        "weakT  <- 13:29\n",
        "weakR  <- processImageStack(fp = weakFP, trmAmnt = weakT)"
      ],
      "id": "ef0d0b89-10a1-4bba-b590-6587a84b51e2"
    },
    {
      "cell_type": "code",
      "execution_count": null,
      "metadata": {},
      "outputs": [],
      "source": [
        "image2D(weakR$rawSlices,asp = 1, axes=FALSE, colkey = FALSE, xlab=\"\", ylab=\"\")"
      ],
      "id": "35b8f617-21c0-4380-b690-d45156a03396"
    },
    {
      "cell_type": "code",
      "execution_count": null,
      "metadata": {
        "exports": "code",
        "file": "weak-intensity-boundary.html"
      },
      "outputs": [],
      "source": [
        "weakR$cloudPlot"
      ],
      "id": "58685f82-2ddc-476b-b364-165400967f1c"
    },
    {
      "cell_type": "markdown",
      "metadata": {},
      "source": [
        "[file:weak-intensity-boundary.html](weak-intensity-boundary.html)"
      ],
      "id": "d0fe8e46-010b-4863-898f-7776f6ccdecf"
    },
    {
      "cell_type": "code",
      "execution_count": null,
      "metadata": {
        "file": "weak-intensity-boundary.png"
      },
      "outputs": [],
      "source": [
        "par(mfrow=c(1,1))\n",
        "plot(weakR$ripsDiag[[\"diagram\"]])"
      ],
      "id": "9c0fffe5-1d62-440b-a993-bd9f88a7233e"
    },
    {
      "cell_type": "markdown",
      "metadata": {},
      "source": [
        "## Results Comparison"
      ],
      "id": "7b68f1e5-390d-40be-985b-7c2434f2e1e9"
    },
    {
      "cell_type": "code",
      "execution_count": null,
      "metadata": {
        "file": "comparison.png"
      },
      "outputs": [],
      "source": [
        "par(mfrow=c(3,1))\n",
        "plot(weakR$ripsDiag[[\"diagram\"]], main=\"Weak Intensity Boundary\")\n",
        "plot(mediumR$ripsDiag[[\"diagram\"]], main=\"Medium Intensity Boundary\")\n",
        "plot(strongR$ripsDiag[[\"diagram\"]], main=\"Strong Intensity Boundary\")"
      ],
      "id": "8f3a7421-9474-466f-8ad3-63a8f08e2529"
    },
    {
      "cell_type": "raw",
      "metadata": {
        "raw_mimetype": "org"
      },
      "source": [
        "#+RESULTS:"
      ],
      "id": "161d4d2f-7366-4477-bf31-59f6f8191283"
    },
    {
      "cell_type": "markdown",
      "metadata": {},
      "source": [
        "![](attachment:comparison.png)\n",
        "\n",
        "The weak intensity boundary is indicative of the medication working\n",
        "effectively. The blue dots all begin close to the diagonal in the\n",
        "persistence diagram indicates that the protein distribution has no voids\n",
        "and is evenly distributed in the cell.\n",
        "\n",
        "The strong intensity boundary is indicative of the medication not\n",
        "working effectively. The blue dot far from the diagonal in the\n",
        "persistence diagrams indicates that the protein is distributed along the\n",
        "cell boundary, meaning little protein made it into the cell."
      ],
      "attachments": {
        "comparison.png": {
          "image/png": "[encoded data removed]"
        }
      },
      "id": "b693bd6d-1f37-4b65-bb54-54fe43ba7ac1"
    }
  ],
  "nbformat": 4,
  "nbformat_minor": 5,
  "metadata": {
    "kernelspec": {
      "display_name": "Python 3",
      "language": "python",
      "name": "python3"
    }
  }
}