{
  "cells": [
    {
      "cell_type": "markdown",
      "metadata": {},
      "source": [
        "# Datasaurus\n",
        "\n",
        "Ryan Jensen\n",
        "\n",
        "## Datasaurus\n",
        "\n",
        "The datasaurus is a collection of 13 sets of data points. Each set has\n",
        "five (almost) identical statistcs. Scatter plots reveal that while basic\n",
        "statics are the same, their arrangement in the plane is very different.\n",
        "\n",
        "I’ve modified the original datasaurs collection slightly, and applied\n",
        "persistent homology in order to differentiate some of the data sets. My\n",
        "results are below.\n",
        "\n",
        "-   [Datasaurus Slides](talk.pdf)\n",
        "-   [Datasaurus to Circle](https://youtu.be/7xpFDxnYJ-4)\n",
        "-   [Datasaurus Stats](https://youtu.be/CGvwX5lUl74)\n",
        "-   [Datasaurus Barcodes](https://youtu.be/ISpv4kQiAns)"
      ],
      "id": "3290f147-12f1-46f4-8955-4c84e7c44500"
    }
  ],
  "nbformat": 4,
  "nbformat_minor": 5,
  "metadata": {
    "kernelspec": {
      "display_name": "Python 3",
      "language": "python",
      "name": "python3"
    }
  }
}