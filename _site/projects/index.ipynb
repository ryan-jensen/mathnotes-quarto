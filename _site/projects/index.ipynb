{
  "cells": [
    {
      "cell_type": "markdown",
      "metadata": {},
      "source": [
        "# Research Projects\n",
        "\n",
        "Ryan Jensen\n",
        "\n",
        "Here are some research project I have worked on, or I am working on."
      ],
      "id": "4548f855-61ef-448a-96ba-7bf03f1bd64a"
    }
  ],
  "nbformat": 4,
  "nbformat_minor": 5,
  "metadata": {
    "kernelspec": {
      "display_name": "Python 3",
      "language": "python",
      "name": "python3"
    }
  }
}