{
  "cells": [
    {
      "cell_type": "markdown",
      "metadata": {},
      "source": [
        "# Research Projects\n",
        "\n",
        "Ryan Jensen\n",
        "\n",
        "Here are some research project I have worked on, or I am working on."
      ],
      "id": "3279f786-8a51-4927-a914-1d34c0c7a138"
    }
  ],
  "nbformat": 4,
  "nbformat_minor": 5,
  "metadata": {
    "kernelspec": {
      "display_name": "Python 3",
      "language": "python",
      "name": "python3"
    }
  }
}