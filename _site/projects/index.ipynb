{
  "cells": [
    {
      "cell_type": "markdown",
      "metadata": {},
      "source": [
        "# Research Projects\n",
        "\n",
        "Ryan Jensen\n",
        "\n",
        "Here are some research project I have worked on, or I am working on."
      ],
      "id": "038dcd84-e6e3-466e-b391-794a3649d420"
    }
  ],
  "nbformat": 4,
  "nbformat_minor": 5,
  "metadata": {
    "kernelspec": {
      "display_name": "Python 3",
      "language": "python",
      "name": "python3"
    }
  }
}