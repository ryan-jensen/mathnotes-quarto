{
  "cells": [
    {
      "cell_type": "markdown",
      "metadata": {},
      "source": [
        "# Research Projects\n",
        "\n",
        "Ryan Jensen\n",
        "\n",
        "Here are some research project I have worked on, or I am working on."
      ],
      "id": "94530e2e-d4c9-4d06-88a2-861034a7ad06"
    }
  ],
  "nbformat": 4,
  "nbformat_minor": 5,
  "metadata": {
    "kernelspec": {
      "display_name": "Python 3",
      "language": "python",
      "name": "python3"
    }
  }
}