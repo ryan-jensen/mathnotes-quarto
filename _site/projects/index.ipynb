{
  "cells": [
    {
      "cell_type": "markdown",
      "metadata": {},
      "source": [
        "# Research Projects\n",
        "\n",
        "Ryan Jensen\n",
        "\n",
        "Here are some research project I have worked on, or I am working on."
      ],
      "id": "b4ab4e51-f9f7-483c-874e-42eba5cd37dc"
    }
  ],
  "nbformat": 4,
  "nbformat_minor": 5,
  "metadata": {
    "kernelspec": {
      "display_name": "Python 3",
      "language": "python",
      "name": "python3"
    }
  }
}