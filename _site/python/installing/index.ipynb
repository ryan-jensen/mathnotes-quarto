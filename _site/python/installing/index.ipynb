{
  "cells": [
    {
      "cell_type": "markdown",
      "metadata": {},
      "source": [
        "# Installing Python\n",
        "\n",
        "Here we learn how to install Python."
      ],
      "id": "a423fd10-b231-4c5b-991f-eb5cb35ed845"
    }
  ],
  "nbformat": 4,
  "nbformat_minor": 5,
  "metadata": {
    "kernelspec": {
      "display_name": "Python 3",
      "language": "python",
      "name": "python3"
    }
  }
}