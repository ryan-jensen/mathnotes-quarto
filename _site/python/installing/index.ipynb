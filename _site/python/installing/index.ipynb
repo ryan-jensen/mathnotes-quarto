{
  "cells": [
    {
      "cell_type": "markdown",
      "metadata": {},
      "source": [
        "# Installing Python\n",
        "\n",
        "Here we learn how to install Python."
      ],
      "id": "7f781e6b-e570-48b0-a129-36bab7b72348"
    }
  ],
  "nbformat": 4,
  "nbformat_minor": 5,
  "metadata": {
    "kernelspec": {
      "display_name": "Python 3",
      "language": "python",
      "name": "python3"
    }
  }
}