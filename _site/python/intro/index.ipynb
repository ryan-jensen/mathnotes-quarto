{
  "cells": [
    {
      "cell_type": "markdown",
      "metadata": {},
      "source": [
        "# Introduction to Python\n",
        "\n",
        "Here we learn an introduction to Python.\n",
        "\n",
        "> **Hint**\n",
        ">\n",
        "> Here is the hint.\n",
        "\n",
        "``` bash\n",
        "quarto render\n",
        "\n",
        "pwd\n",
        "\n",
        "ls -al\n",
        "```\n",
        "\n",
        "## Downloads\n",
        "\n",
        "## Math\n",
        "\n",
        "Here is some math, which is inline: $f(x) = x^2$.\n",
        "\n",
        "And here is some math in display style $$\n",
        "\\sum_{i=1}^n i = \\frac{n(n+1)}{2}.\n",
        "$$"
      ],
      "id": "8e75d995-7172-4d55-811f-6715445b86c3"
    }
  ],
  "nbformat": 4,
  "nbformat_minor": 5,
  "metadata": {
    "kernelspec": {
      "display_name": "Python 3",
      "language": "python",
      "name": "python3"
    }
  }
}