{
  "cells": [
    {
      "cell_type": "markdown",
      "metadata": {},
      "source": [
        "# Introduction to Python\n",
        "\n",
        "Here we learn an introduction to Python.\n",
        "\n",
        "> **Hint**\n",
        ">\n",
        "> Here is the hint.\n",
        "\n",
        "``` bash\n",
        "quarto render\n",
        "\n",
        "pwd\n",
        "\n",
        "ls -al\n",
        "```\n",
        "\n",
        "## Downloads\n",
        "\n",
        "## Math\n",
        "\n",
        "Here is some math, which is inline: $f(x) = x^2$.\n",
        "\n",
        "And here is some math in display style $$\n",
        "\\sum_{i=1}^n i = \\frac{n(n+1)}{2}.\n",
        "$$"
      ],
      "id": "188f91a5-5bba-407c-95d2-17a0b2f3d9df"
    }
  ],
  "nbformat": 4,
  "nbformat_minor": 5,
  "metadata": {
    "kernelspec": {
      "display_name": "Python 3",
      "language": "python",
      "name": "python3"
    }
  }
}