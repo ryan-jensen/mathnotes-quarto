{
  "cells": [
    {
      "cell_type": "markdown",
      "metadata": {},
      "source": [
        "# Introduction to Python\n",
        "\n",
        "Here we learn an introduction to Python.\n",
        "\n",
        "> **Hint**\n",
        ">\n",
        "> Here is the hint.\n",
        "\n",
        "``` bash\n",
        "quarto render\n",
        "\n",
        "pwd\n",
        "\n",
        "ls -al\n",
        "```\n",
        "\n",
        "## Downloads\n",
        "\n",
        "## Math\n",
        "\n",
        "Here is some math, which is inline: $f(x) = x^2$.\n",
        "\n",
        "And here is some math in display style $$\n",
        "\\sum_{i=1}^n i = \\frac{n(n+1)}{2}.\n",
        "$$"
      ],
      "id": "daa00408-1fbf-453d-87a6-17f85ac5c360"
    }
  ],
  "nbformat": 4,
  "nbformat_minor": 5,
  "metadata": {
    "kernelspec": {
      "display_name": "Python 3",
      "language": "python",
      "name": "python3"
    }
  }
}