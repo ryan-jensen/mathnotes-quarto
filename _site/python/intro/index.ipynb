{
  "cells": [
    {
      "cell_type": "markdown",
      "metadata": {},
      "source": [
        "# Introduction to Python\n",
        "\n",
        "Here we learn an introduction to Python.\n",
        "\n",
        "> **Hint**\n",
        ">\n",
        "> Here is the hint.\n",
        "\n",
        "``` bash\n",
        "quarto render\n",
        "\n",
        "pwd\n",
        "\n",
        "ls -al\n",
        "```\n",
        "\n",
        "## Downloads\n",
        "\n",
        "## Math\n",
        "\n",
        "Here is some math, which is inline: $f(x) = x^2$.\n",
        "\n",
        "And here is some math in display style $$\n",
        "\\sum_{i=1}^n i = \\frac{n(n+1)}{2}.\n",
        "$$"
      ],
      "id": "23e51b7d-12f2-4219-b4fe-60d69ef57687"
    }
  ],
  "nbformat": 4,
  "nbformat_minor": 5,
  "metadata": {
    "kernelspec": {
      "display_name": "Python 3",
      "language": "python",
      "name": "python3"
    }
  }
}